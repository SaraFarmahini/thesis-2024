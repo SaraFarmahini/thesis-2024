{
 "cells": [
  {
   "cell_type": "code",
   "execution_count": 1,
   "id": "08833fda",
   "metadata": {},
   "outputs": [
    {
     "name": "stdout",
     "output_type": "stream",
     "text": [
      "Cleaned dataset saved to cleaned_dataset.xlsx\n"
     ]
    }
   ],
   "source": [
    "import pandas as pd\n",
    "\n",
    "# Load the dataset\n",
    "file_path = 'nsclc_epitope_table.xlsx'  # Replace with your file path\n",
    "df = pd.read_excel(file_path, sheet_name='Sheet1')\n",
    "\n",
    "# Remove the first row and set the second row as column labels\n",
    "df_cleaned = df.iloc[1:, :].copy()\n",
    "df_cleaned.columns = df.iloc[0]\n",
    "\n",
    "# Keep only the required columns\n",
    "required_columns = [\n",
    "    \"IEDB IRI\",\n",
    "    \"Object Type\",\n",
    "    \"Name\",\n",
    "    \"Starting Position\",\n",
    "    \"Ending Position\",\n",
    "    \"Source Molecule\",\n",
    "    \"Source Molecule IRI\",\n",
    "    \"Source Organism\",\n",
    "]\n",
    "df_cleaned = df_cleaned[required_columns]\n",
    "\n",
    "# Fill empty \"Source Organism\" cells with \"not defined\"\n",
    "df_cleaned[\"Source Organism\"] = df_cleaned[\"Source Organism\"].fillna(\"not defined\")\n",
    "\n",
    "# Save the cleaned dataset to a new Excel file\n",
    "output_file_path = 'cleaned_dataset.xlsx'  # Replace with your desired output file path\n",
    "df_cleaned.to_excel(output_file_path, index=False)\n",
    "\n",
    "print(f\"Cleaned dataset saved to {output_file_path}\")\n"
   ]
  },
  {
   "cell_type": "code",
   "execution_count": null,
   "id": "301c507c",
   "metadata": {},
   "outputs": [],
   "source": [
    "import pandas as pd\n",
    "from itertools import combinations\n",
    "from difflib import SequenceMatcher\n",
    "\n",
    "# Load the dataset\n",
    "file_path = 'cleaned_dataset.xlsx'  # Replace with your cleaned dataset path\n",
    "df = pd.read_excel(file_path)\n",
    "\n",
    "# Remove column E\n",
    "if 'E' in df.columns:\n",
    "    df = df.drop(columns=['E'])\n",
    "\n",
    "# Function to calculate sequence similarity\n",
    "def calculate_similarity(seq1, seq2):\n",
    "    return SequenceMatcher(None, seq1, seq2).ratio()  # Ratio of similarity (0 to 1)\n",
    "\n",
    "# Find all pairs of sequences and their similarity\n",
    "name_sequences = df['Name'].dropna().unique()  # Drop NaN and ensure unique sequences\n",
    "similarity_threshold = 0.8  # Define a threshold for partial similarity\n",
    "similar_sequences = []\n",
    "\n",
    "for seq1, seq2 in combinations(name_sequences, 2):  # Compare every pair\n",
    "    similarity = calculate_similarity(seq1, seq2)\n",
    "    if similarity >= similarity_threshold:\n",
    "        similar_sequences.append((seq1, seq2, similarity))\n",
    "\n",
    "# Convert results to a DataFrame\n",
    "similarity_df = pd.DataFrame(similar_sequences, columns=['Sequence 1', 'Sequence 2', 'Similarity'])\n",
    "\n",
    "# Statistics\n",
    "total_sequences = len(name_sequences)\n",
    "total_pairs = len(list(combinations(name_sequences, 2)))\n",
    "similar_pairs_count = len(similarity_df)\n",
    "similarity_percentage = (similar_pairs_count / total_pairs) * 100\n",
    "\n",
    "# Print statistics\n",
    "print(f\"Total Sequences: {total_sequences}\")\n",
    "print(f\"Total Possible Pairs: {total_pairs}\")\n",
    "print(f\"Similar Pairs (Similarity >= {similarity_threshold}): {similar_pairs_count}\")\n",
    "print(f\"Percentage of Similar Pairs: {similarity_percentage:.2f}%\")\n",
    "\n",
    "# Display the DataFrame of similar sequences\n",
    "import ace_tools as tools; tools.display_dataframe_to_user(name=\"Similar Amino Acid Sequences\", dataframe=similarity_df)\n"
   ]
  },
  {
   "cell_type": "code",
   "execution_count": null,
   "id": "f2848c73",
   "metadata": {},
   "outputs": [],
   "source": []
  }
 ],
 "metadata": {
  "kernelspec": {
   "display_name": "Python 3 (ipykernel)",
   "language": "python",
   "name": "python3"
  },
  "language_info": {
   "codemirror_mode": {
    "name": "ipython",
    "version": 3
   },
   "file_extension": ".py",
   "mimetype": "text/x-python",
   "name": "python",
   "nbconvert_exporter": "python",
   "pygments_lexer": "ipython3",
   "version": "3.11.5"
  }
 },
 "nbformat": 4,
 "nbformat_minor": 5
}
